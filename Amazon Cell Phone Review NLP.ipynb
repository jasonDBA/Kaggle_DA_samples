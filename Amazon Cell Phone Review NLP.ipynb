{
 "cells": [
  {
   "cell_type": "markdown",
   "metadata": {},
   "source": [
    "### Intro\n",
    "This dataset contains reviews from Amazon about cell phones from 2004 up til Sep 2019. For more details, please visit <a href='https://www.kaggle.com/grikomsn/amazon-cell-phones-reviews'>here</a>"
   ]
  },
  {
   "cell_type": "markdown",
   "metadata": {},
   "source": [
    "### Load Data"
   ]
  },
  {
   "cell_type": "code",
   "execution_count": 1,
   "metadata": {},
   "outputs": [],
   "source": [
    "import pandas as pd\n",
    "\n",
    "df_items = pd.read_csv('C:/Users/jabchoi/Documents/data_set/Amazon_Reviews_Dataset/20190928-items.csv')\n",
    "df_reviews = pd.read_csv('C:/Users/jabchoi/Documents/data_set/Amazon_Reviews_Dataset/20190928-reviews.csv')"
   ]
  },
  {
   "cell_type": "code",
   "execution_count": 2,
   "metadata": {},
   "outputs": [
    {
     "name": "stdout",
     "output_type": "stream",
     "text": [
      "The dataset 'df_items' contains 792 rows and 9 columns.\n"
     ]
    },
    {
     "data": {
      "text/html": [
       "<div>\n",
       "<style scoped>\n",
       "    .dataframe tbody tr th:only-of-type {\n",
       "        vertical-align: middle;\n",
       "    }\n",
       "\n",
       "    .dataframe tbody tr th {\n",
       "        vertical-align: top;\n",
       "    }\n",
       "\n",
       "    .dataframe thead th {\n",
       "        text-align: right;\n",
       "    }\n",
       "</style>\n",
       "<table border=\"1\" class=\"dataframe\">\n",
       "  <thead>\n",
       "    <tr style=\"text-align: right;\">\n",
       "      <th></th>\n",
       "      <th>asin</th>\n",
       "      <th>brand</th>\n",
       "      <th>title</th>\n",
       "      <th>url</th>\n",
       "      <th>image</th>\n",
       "      <th>rating</th>\n",
       "      <th>reviewUrl</th>\n",
       "      <th>totalReviews</th>\n",
       "      <th>prices</th>\n",
       "    </tr>\n",
       "  </thead>\n",
       "  <tbody>\n",
       "    <tr>\n",
       "      <th>0</th>\n",
       "      <td>B0000SX2UC</td>\n",
       "      <td>Nokia</td>\n",
       "      <td>Dual-Band / Tri-Mode Sprint PCS Phone w/ Voice...</td>\n",
       "      <td>https://www.amazon.com/Dual-Band-Tri-Mode-Acti...</td>\n",
       "      <td>https://m.media-amazon.com/images/I/2143EBQ210...</td>\n",
       "      <td>3.0</td>\n",
       "      <td>https://www.amazon.com/product-reviews/B0000SX2UC</td>\n",
       "      <td>14</td>\n",
       "      <td>NaN</td>\n",
       "    </tr>\n",
       "    <tr>\n",
       "      <th>1</th>\n",
       "      <td>B0009N5L7K</td>\n",
       "      <td>Motorola</td>\n",
       "      <td>Motorola I265 phone</td>\n",
       "      <td>https://www.amazon.com/Motorola-i265-I265-phon...</td>\n",
       "      <td>https://m.media-amazon.com/images/I/419WBAVDAR...</td>\n",
       "      <td>2.9</td>\n",
       "      <td>https://www.amazon.com/product-reviews/B0009N5L7K</td>\n",
       "      <td>7</td>\n",
       "      <td>$49.95</td>\n",
       "    </tr>\n",
       "    <tr>\n",
       "      <th>2</th>\n",
       "      <td>B000SKTZ0S</td>\n",
       "      <td>Motorola</td>\n",
       "      <td>MOTOROLA C168i AT&amp;T CINGULAR PREPAID GOPHONE C...</td>\n",
       "      <td>https://www.amazon.com/MOTOROLA-C168i-CINGULAR...</td>\n",
       "      <td>https://m.media-amazon.com/images/I/71b+q3ydkI...</td>\n",
       "      <td>2.6</td>\n",
       "      <td>https://www.amazon.com/product-reviews/B000SKTZ0S</td>\n",
       "      <td>22</td>\n",
       "      <td>NaN</td>\n",
       "    </tr>\n",
       "    <tr>\n",
       "      <th>3</th>\n",
       "      <td>B00198M12M</td>\n",
       "      <td>Nokia</td>\n",
       "      <td>Nokia 6500 Slide Black/silver Unlocked Cell Phone</td>\n",
       "      <td>https://www.amazon.com/Nokia-6500-Slide-silver...</td>\n",
       "      <td>https://m.media-amazon.com/images/I/41ss4HpLkL...</td>\n",
       "      <td>2.4</td>\n",
       "      <td>https://www.amazon.com/product-reviews/B00198M12M</td>\n",
       "      <td>5</td>\n",
       "      <td>NaN</td>\n",
       "    </tr>\n",
       "    <tr>\n",
       "      <th>4</th>\n",
       "      <td>B001AO4OUC</td>\n",
       "      <td>Motorola</td>\n",
       "      <td>Motorola i335 Cell Phone Boost Mobile</td>\n",
       "      <td>https://www.amazon.com/Motorola-i335-Phone-Boo...</td>\n",
       "      <td>https://m.media-amazon.com/images/I/710UO8gdT+...</td>\n",
       "      <td>3.3</td>\n",
       "      <td>https://www.amazon.com/product-reviews/B001AO4OUC</td>\n",
       "      <td>21</td>\n",
       "      <td>NaN</td>\n",
       "    </tr>\n",
       "  </tbody>\n",
       "</table>\n",
       "</div>"
      ],
      "text/plain": [
       "         asin     brand                                              title  \\\n",
       "0  B0000SX2UC     Nokia  Dual-Band / Tri-Mode Sprint PCS Phone w/ Voice...   \n",
       "1  B0009N5L7K  Motorola                                Motorola I265 phone   \n",
       "2  B000SKTZ0S  Motorola  MOTOROLA C168i AT&T CINGULAR PREPAID GOPHONE C...   \n",
       "3  B00198M12M     Nokia  Nokia 6500 Slide Black/silver Unlocked Cell Phone   \n",
       "4  B001AO4OUC  Motorola              Motorola i335 Cell Phone Boost Mobile   \n",
       "\n",
       "                                                 url  \\\n",
       "0  https://www.amazon.com/Dual-Band-Tri-Mode-Acti...   \n",
       "1  https://www.amazon.com/Motorola-i265-I265-phon...   \n",
       "2  https://www.amazon.com/MOTOROLA-C168i-CINGULAR...   \n",
       "3  https://www.amazon.com/Nokia-6500-Slide-silver...   \n",
       "4  https://www.amazon.com/Motorola-i335-Phone-Boo...   \n",
       "\n",
       "                                               image  rating  \\\n",
       "0  https://m.media-amazon.com/images/I/2143EBQ210...     3.0   \n",
       "1  https://m.media-amazon.com/images/I/419WBAVDAR...     2.9   \n",
       "2  https://m.media-amazon.com/images/I/71b+q3ydkI...     2.6   \n",
       "3  https://m.media-amazon.com/images/I/41ss4HpLkL...     2.4   \n",
       "4  https://m.media-amazon.com/images/I/710UO8gdT+...     3.3   \n",
       "\n",
       "                                           reviewUrl  totalReviews  prices  \n",
       "0  https://www.amazon.com/product-reviews/B0000SX2UC            14     NaN  \n",
       "1  https://www.amazon.com/product-reviews/B0009N5L7K             7  $49.95  \n",
       "2  https://www.amazon.com/product-reviews/B000SKTZ0S            22     NaN  \n",
       "3  https://www.amazon.com/product-reviews/B00198M12M             5     NaN  \n",
       "4  https://www.amazon.com/product-reviews/B001AO4OUC            21     NaN  "
      ]
     },
     "execution_count": 2,
     "metadata": {},
     "output_type": "execute_result"
    }
   ],
   "source": [
    "print('The dataset \\'df_items\\' contains {0} rows and {1} columns.'.format(df_items.shape[0], df_items.shape[1]))\n",
    "df_items.head()"
   ]
  },
  {
   "cell_type": "code",
   "execution_count": 3,
   "metadata": {},
   "outputs": [
    {
     "data": {
      "text/html": [
       "<div>\n",
       "<style scoped>\n",
       "    .dataframe tbody tr th:only-of-type {\n",
       "        vertical-align: middle;\n",
       "    }\n",
       "\n",
       "    .dataframe tbody tr th {\n",
       "        vertical-align: top;\n",
       "    }\n",
       "\n",
       "    .dataframe thead th {\n",
       "        text-align: right;\n",
       "    }\n",
       "</style>\n",
       "<table border=\"1\" class=\"dataframe\">\n",
       "  <thead>\n",
       "    <tr style=\"text-align: right;\">\n",
       "      <th></th>\n",
       "      <th>asin</th>\n",
       "      <th>brand</th>\n",
       "      <th>title</th>\n",
       "      <th>url</th>\n",
       "      <th>image</th>\n",
       "      <th>rating</th>\n",
       "      <th>reviewUrl</th>\n",
       "      <th>totalReviews</th>\n",
       "      <th>prices</th>\n",
       "    </tr>\n",
       "  </thead>\n",
       "  <tbody>\n",
       "    <tr>\n",
       "      <th>count</th>\n",
       "      <td>792</td>\n",
       "      <td>792</td>\n",
       "      <td>792</td>\n",
       "      <td>792</td>\n",
       "      <td>792</td>\n",
       "      <td>792.000000</td>\n",
       "      <td>792</td>\n",
       "      <td>792.000000</td>\n",
       "      <td>577</td>\n",
       "    </tr>\n",
       "    <tr>\n",
       "      <th>unique</th>\n",
       "      <td>792</td>\n",
       "      <td>10</td>\n",
       "      <td>785</td>\n",
       "      <td>792</td>\n",
       "      <td>719</td>\n",
       "      <td>NaN</td>\n",
       "      <td>792</td>\n",
       "      <td>NaN</td>\n",
       "      <td>447</td>\n",
       "    </tr>\n",
       "    <tr>\n",
       "      <th>top</th>\n",
       "      <td>B01N0AOOK1</td>\n",
       "      <td>Samsung</td>\n",
       "      <td>Samsung Galaxy S8 SM-G950U 64GB for T-Mobile (...</td>\n",
       "      <td>https://www.amazon.com/Samsung-Galaxy-Unlocked...</td>\n",
       "      <td>https://m.media-amazon.com/images/I/61nEeSZKJZ...</td>\n",
       "      <td>NaN</td>\n",
       "      <td>https://www.amazon.com/product-reviews/B07J4Z9647</td>\n",
       "      <td>NaN</td>\n",
       "      <td>$199.99</td>\n",
       "    </tr>\n",
       "    <tr>\n",
       "      <th>freq</th>\n",
       "      <td>1</td>\n",
       "      <td>397</td>\n",
       "      <td>3</td>\n",
       "      <td>1</td>\n",
       "      <td>4</td>\n",
       "      <td>NaN</td>\n",
       "      <td>1</td>\n",
       "      <td>NaN</td>\n",
       "      <td>8</td>\n",
       "    </tr>\n",
       "    <tr>\n",
       "      <th>mean</th>\n",
       "      <td>NaN</td>\n",
       "      <td>NaN</td>\n",
       "      <td>NaN</td>\n",
       "      <td>NaN</td>\n",
       "      <td>NaN</td>\n",
       "      <td>3.607576</td>\n",
       "      <td>NaN</td>\n",
       "      <td>104.231061</td>\n",
       "      <td>NaN</td>\n",
       "    </tr>\n",
       "    <tr>\n",
       "      <th>std</th>\n",
       "      <td>NaN</td>\n",
       "      <td>NaN</td>\n",
       "      <td>NaN</td>\n",
       "      <td>NaN</td>\n",
       "      <td>NaN</td>\n",
       "      <td>0.668730</td>\n",
       "      <td>NaN</td>\n",
       "      <td>166.242503</td>\n",
       "      <td>NaN</td>\n",
       "    </tr>\n",
       "    <tr>\n",
       "      <th>min</th>\n",
       "      <td>NaN</td>\n",
       "      <td>NaN</td>\n",
       "      <td>NaN</td>\n",
       "      <td>NaN</td>\n",
       "      <td>NaN</td>\n",
       "      <td>1.000000</td>\n",
       "      <td>NaN</td>\n",
       "      <td>1.000000</td>\n",
       "      <td>NaN</td>\n",
       "    </tr>\n",
       "    <tr>\n",
       "      <th>25%</th>\n",
       "      <td>NaN</td>\n",
       "      <td>NaN</td>\n",
       "      <td>NaN</td>\n",
       "      <td>NaN</td>\n",
       "      <td>NaN</td>\n",
       "      <td>3.200000</td>\n",
       "      <td>NaN</td>\n",
       "      <td>7.000000</td>\n",
       "      <td>NaN</td>\n",
       "    </tr>\n",
       "    <tr>\n",
       "      <th>50%</th>\n",
       "      <td>NaN</td>\n",
       "      <td>NaN</td>\n",
       "      <td>NaN</td>\n",
       "      <td>NaN</td>\n",
       "      <td>NaN</td>\n",
       "      <td>3.700000</td>\n",
       "      <td>NaN</td>\n",
       "      <td>31.500000</td>\n",
       "      <td>NaN</td>\n",
       "    </tr>\n",
       "    <tr>\n",
       "      <th>75%</th>\n",
       "      <td>NaN</td>\n",
       "      <td>NaN</td>\n",
       "      <td>NaN</td>\n",
       "      <td>NaN</td>\n",
       "      <td>NaN</td>\n",
       "      <td>4.000000</td>\n",
       "      <td>NaN</td>\n",
       "      <td>122.250000</td>\n",
       "      <td>NaN</td>\n",
       "    </tr>\n",
       "    <tr>\n",
       "      <th>max</th>\n",
       "      <td>NaN</td>\n",
       "      <td>NaN</td>\n",
       "      <td>NaN</td>\n",
       "      <td>NaN</td>\n",
       "      <td>NaN</td>\n",
       "      <td>5.000000</td>\n",
       "      <td>NaN</td>\n",
       "      <td>984.000000</td>\n",
       "      <td>NaN</td>\n",
       "    </tr>\n",
       "  </tbody>\n",
       "</table>\n",
       "</div>"
      ],
      "text/plain": [
       "              asin    brand  \\\n",
       "count          792      792   \n",
       "unique         792       10   \n",
       "top     B01N0AOOK1  Samsung   \n",
       "freq             1      397   \n",
       "mean           NaN      NaN   \n",
       "std            NaN      NaN   \n",
       "min            NaN      NaN   \n",
       "25%            NaN      NaN   \n",
       "50%            NaN      NaN   \n",
       "75%            NaN      NaN   \n",
       "max            NaN      NaN   \n",
       "\n",
       "                                                    title  \\\n",
       "count                                                 792   \n",
       "unique                                                785   \n",
       "top     Samsung Galaxy S8 SM-G950U 64GB for T-Mobile (...   \n",
       "freq                                                    3   \n",
       "mean                                                  NaN   \n",
       "std                                                   NaN   \n",
       "min                                                   NaN   \n",
       "25%                                                   NaN   \n",
       "50%                                                   NaN   \n",
       "75%                                                   NaN   \n",
       "max                                                   NaN   \n",
       "\n",
       "                                                      url  \\\n",
       "count                                                 792   \n",
       "unique                                                792   \n",
       "top     https://www.amazon.com/Samsung-Galaxy-Unlocked...   \n",
       "freq                                                    1   \n",
       "mean                                                  NaN   \n",
       "std                                                   NaN   \n",
       "min                                                   NaN   \n",
       "25%                                                   NaN   \n",
       "50%                                                   NaN   \n",
       "75%                                                   NaN   \n",
       "max                                                   NaN   \n",
       "\n",
       "                                                    image      rating  \\\n",
       "count                                                 792  792.000000   \n",
       "unique                                                719         NaN   \n",
       "top     https://m.media-amazon.com/images/I/61nEeSZKJZ...         NaN   \n",
       "freq                                                    4         NaN   \n",
       "mean                                                  NaN    3.607576   \n",
       "std                                                   NaN    0.668730   \n",
       "min                                                   NaN    1.000000   \n",
       "25%                                                   NaN    3.200000   \n",
       "50%                                                   NaN    3.700000   \n",
       "75%                                                   NaN    4.000000   \n",
       "max                                                   NaN    5.000000   \n",
       "\n",
       "                                                reviewUrl  totalReviews  \\\n",
       "count                                                 792    792.000000   \n",
       "unique                                                792           NaN   \n",
       "top     https://www.amazon.com/product-reviews/B07J4Z9647           NaN   \n",
       "freq                                                    1           NaN   \n",
       "mean                                                  NaN    104.231061   \n",
       "std                                                   NaN    166.242503   \n",
       "min                                                   NaN      1.000000   \n",
       "25%                                                   NaN      7.000000   \n",
       "50%                                                   NaN     31.500000   \n",
       "75%                                                   NaN    122.250000   \n",
       "max                                                   NaN    984.000000   \n",
       "\n",
       "         prices  \n",
       "count       577  \n",
       "unique      447  \n",
       "top     $199.99  \n",
       "freq          8  \n",
       "mean        NaN  \n",
       "std         NaN  \n",
       "min         NaN  \n",
       "25%         NaN  \n",
       "50%         NaN  \n",
       "75%         NaN  \n",
       "max         NaN  "
      ]
     },
     "execution_count": 3,
     "metadata": {},
     "output_type": "execute_result"
    }
   ],
   "source": [
    "df_items.describe(include='all')"
   ]
  },
  {
   "cell_type": "markdown",
   "metadata": {},
   "source": [
    "### Pie chart"
   ]
  },
  {
   "cell_type": "code",
   "execution_count": 4,
   "metadata": {},
   "outputs": [
    {
     "data": {
      "text/plain": [
       "<Figure size 800x800 with 1 Axes>"
      ]
     },
     "metadata": {},
     "output_type": "display_data"
    }
   ],
   "source": [
    "import matplotlib.pyplot as plt\n",
    "import seaborn as sns\n",
    "plt.style.use('ggplot')\n",
    "\n",
    "ax = df_items.groupby('brand').count()['asin'].sort_values(ascending=False).plot(kind='pie', figsize=(8,8))\n",
    "\n",
    "ax.set_title('Number of Offerings grouped by Brand', fontsize=20, fontweight='bold', pad=30)\n",
    "ax.set_ylabel('Brands', fontsize=15)\n",
    "ax.legend(bbox_to_anchor=(1, 1))\n",
    "\n",
    "plt.show()"
   ]
  },
  {
   "cell_type": "markdown",
   "metadata": {},
   "source": [
    "### Bar chart\n",
    "Let's make a bar chart showing 'Average rating per brand'"
   ]
  },
  {
   "cell_type": "code",
   "execution_count": 5,
   "metadata": {},
   "outputs": [
    {
     "data": {
      "image/png": "[encoded data removed]",
      "text/plain": [
       "<Figure size 720x360 with 1 Axes>"
      ]
     },
     "metadata": {
      "needs_background": "light"
     },
     "output_type": "display_data"
    }
   ],
   "source": [
    "ax = df_items.groupby('brand').mean()['rating'].sort_values().plot(kind='barh', figsize=(10,5))\n",
    "\n",
    "ax.set_title('Average rating per brand', fontsize=20, fontweight='bold', pad=30)\n",
    "ax.set_xlabel('Rating', fontsize=15)\n",
    "ax.set_ylabel('Brand', fontsize=15)\n",
    "\n",
    "plt.show()"
   ]
  },
  {
   "cell_type": "markdown",
   "metadata": {},
   "source": [
    "Analyze 'Reviews' dataset this time"
   ]
  },
  {
   "cell_type": "code",
   "execution_count": 6,
   "metadata": {},
   "outputs": [
    {
     "name": "stdout",
     "output_type": "stream",
     "text": [
      "The dataset, 'df_reviews', contains 82815 rows and 8 columns.\n"
     ]
    },
    {
     "data": {
      "text/html": [
       "<div>\n",
       "<style scoped>\n",
       "    .dataframe tbody tr th:only-of-type {\n",
       "        vertical-align: middle;\n",
       "    }\n",
       "\n",
       "    .dataframe tbody tr th {\n",
       "        vertical-align: top;\n",
       "    }\n",
       "\n",
       "    .dataframe thead th {\n",
       "        text-align: right;\n",
       "    }\n",
       "</style>\n",
       "<table border=\"1\" class=\"dataframe\">\n",
       "  <thead>\n",
       "    <tr style=\"text-align: right;\">\n",
       "      <th></th>\n",
       "      <th>asin</th>\n",
       "      <th>name</th>\n",
       "      <th>rating</th>\n",
       "      <th>date</th>\n",
       "      <th>verified</th>\n",
       "      <th>title</th>\n",
       "      <th>body</th>\n",
       "      <th>helpfulVotes</th>\n",
       "    </tr>\n",
       "  </thead>\n",
       "  <tbody>\n",
       "    <tr>\n",
       "      <th>0</th>\n",
       "      <td>B0000SX2UC</td>\n",
       "      <td>Janet</td>\n",
       "      <td>3</td>\n",
       "      <td>October 11, 2005</td>\n",
       "      <td>False</td>\n",
       "      <td>Def not best, but not worst</td>\n",
       "      <td>I had the Samsung A600 for awhile which is abs...</td>\n",
       "      <td>1.0</td>\n",
       "    </tr>\n",
       "    <tr>\n",
       "      <th>1</th>\n",
       "      <td>B0000SX2UC</td>\n",
       "      <td>Luke Wyatt</td>\n",
       "      <td>1</td>\n",
       "      <td>January 7, 2004</td>\n",
       "      <td>False</td>\n",
       "      <td>Text Messaging Doesn't Work</td>\n",
       "      <td>Due to a software issue between Nokia and Spri...</td>\n",
       "      <td>17.0</td>\n",
       "    </tr>\n",
       "    <tr>\n",
       "      <th>2</th>\n",
       "      <td>B0000SX2UC</td>\n",
       "      <td>Brooke</td>\n",
       "      <td>5</td>\n",
       "      <td>December 30, 2003</td>\n",
       "      <td>False</td>\n",
       "      <td>Love This Phone</td>\n",
       "      <td>This is a great, reliable phone. I also purcha...</td>\n",
       "      <td>5.0</td>\n",
       "    </tr>\n",
       "    <tr>\n",
       "      <th>3</th>\n",
       "      <td>B0000SX2UC</td>\n",
       "      <td>amy m. teague</td>\n",
       "      <td>3</td>\n",
       "      <td>March 18, 2004</td>\n",
       "      <td>False</td>\n",
       "      <td>Love the Phone, BUT...!</td>\n",
       "      <td>I love the phone and all, because I really did...</td>\n",
       "      <td>1.0</td>\n",
       "    </tr>\n",
       "    <tr>\n",
       "      <th>4</th>\n",
       "      <td>B0000SX2UC</td>\n",
       "      <td>tristazbimmer</td>\n",
       "      <td>4</td>\n",
       "      <td>August 28, 2005</td>\n",
       "      <td>False</td>\n",
       "      <td>Great phone service and options, lousy case!</td>\n",
       "      <td>The phone has been great for every purpose it ...</td>\n",
       "      <td>1.0</td>\n",
       "    </tr>\n",
       "  </tbody>\n",
       "</table>\n",
       "</div>"
      ],
      "text/plain": [
       "         asin           name  rating               date  verified  \\\n",
       "0  B0000SX2UC          Janet       3   October 11, 2005     False   \n",
       "1  B0000SX2UC     Luke Wyatt       1    January 7, 2004     False   \n",
       "2  B0000SX2UC         Brooke       5  December 30, 2003     False   \n",
       "3  B0000SX2UC  amy m. teague       3     March 18, 2004     False   \n",
       "4  B0000SX2UC  tristazbimmer       4    August 28, 2005     False   \n",
       "\n",
       "                                          title  \\\n",
       "0                   Def not best, but not worst   \n",
       "1                   Text Messaging Doesn't Work   \n",
       "2                               Love This Phone   \n",
       "3                       Love the Phone, BUT...!   \n",
       "4  Great phone service and options, lousy case!   \n",
       "\n",
       "                                                body  helpfulVotes  \n",
       "0  I had the Samsung A600 for awhile which is abs...           1.0  \n",
       "1  Due to a software issue between Nokia and Spri...          17.0  \n",
       "2  This is a great, reliable phone. I also purcha...           5.0  \n",
       "3  I love the phone and all, because I really did...           1.0  \n",
       "4  The phone has been great for every purpose it ...           1.0  "
      ]
     },
     "execution_count": 6,
     "metadata": {},
     "output_type": "execute_result"
    }
   ],
   "source": [
    "print('The dataset, \\'df_reviews\\', contains {0} rows and {1} columns.'.format(df_reviews.shape[0], df_reviews.shape[1]))\n",
    "df_reviews.head()"
   ]
  },
  {
   "cell_type": "markdown",
   "metadata": {},
   "source": [
    "### Link df_review to df_items based on 'asin'"
   ]
  },
  {
   "cell_type": "code",
   "execution_count": 7,
   "metadata": {},
   "outputs": [
    {
     "data": {
      "text/html": [
       "<div>\n",
       "<style scoped>\n",
       "    .dataframe tbody tr th:only-of-type {\n",
       "        vertical-align: middle;\n",
       "    }\n",
       "\n",
       "    .dataframe tbody tr th {\n",
       "        vertical-align: top;\n",
       "    }\n",
       "\n",
       "    .dataframe thead th {\n",
       "        text-align: right;\n",
       "    }\n",
       "</style>\n",
       "<table border=\"1\" class=\"dataframe\">\n",
       "  <thead>\n",
       "    <tr style=\"text-align: right;\">\n",
       "      <th></th>\n",
       "      <th>asin</th>\n",
       "      <th>name</th>\n",
       "      <th>rating_x</th>\n",
       "      <th>date</th>\n",
       "      <th>verified</th>\n",
       "      <th>title_x</th>\n",
       "      <th>body</th>\n",
       "      <th>helpfulVotes</th>\n",
       "      <th>brand</th>\n",
       "      <th>title_y</th>\n",
       "      <th>url</th>\n",
       "      <th>image</th>\n",
       "      <th>rating_y</th>\n",
       "      <th>reviewUrl</th>\n",
       "      <th>totalReviews</th>\n",
       "      <th>prices</th>\n",
       "    </tr>\n",
       "  </thead>\n",
       "  <tbody>\n",
       "    <tr>\n",
       "      <th>0</th>\n",
       "      <td>B0000SX2UC</td>\n",
       "      <td>Janet</td>\n",
       "      <td>3</td>\n",
       "      <td>October 11, 2005</td>\n",
       "      <td>False</td>\n",
       "      <td>Def not best, but not worst</td>\n",
       "      <td>I had the Samsung A600 for awhile which is abs...</td>\n",
       "      <td>1.0</td>\n",
       "      <td>Nokia</td>\n",
       "      <td>Dual-Band / Tri-Mode Sprint PCS Phone w/ Voice...</td>\n",
       "      <td>https://www.amazon.com/Dual-Band-Tri-Mode-Acti...</td>\n",
       "      <td>https://m.media-amazon.com/images/I/2143EBQ210...</td>\n",
       "      <td>3.0</td>\n",
       "      <td>https://www.amazon.com/product-reviews/B0000SX2UC</td>\n",
       "      <td>14</td>\n",
       "      <td>NaN</td>\n",
       "    </tr>\n",
       "    <tr>\n",
       "      <th>1</th>\n",
       "      <td>B0000SX2UC</td>\n",
       "      <td>Luke Wyatt</td>\n",
       "      <td>1</td>\n",
       "      <td>January 7, 2004</td>\n",
       "      <td>False</td>\n",
       "      <td>Text Messaging Doesn't Work</td>\n",
       "      <td>Due to a software issue between Nokia and Spri...</td>\n",
       "      <td>17.0</td>\n",
       "      <td>Nokia</td>\n",
       "      <td>Dual-Band / Tri-Mode Sprint PCS Phone w/ Voice...</td>\n",
       "      <td>https://www.amazon.com/Dual-Band-Tri-Mode-Acti...</td>\n",
       "      <td>https://m.media-amazon.com/images/I/2143EBQ210...</td>\n",
       "      <td>3.0</td>\n",
       "      <td>https://www.amazon.com/product-reviews/B0000SX2UC</td>\n",
       "      <td>14</td>\n",
       "      <td>NaN</td>\n",
       "    </tr>\n",
       "    <tr>\n",
       "      <th>2</th>\n",
       "      <td>B0000SX2UC</td>\n",
       "      <td>Brooke</td>\n",
       "      <td>5</td>\n",
       "      <td>December 30, 2003</td>\n",
       "      <td>False</td>\n",
       "      <td>Love This Phone</td>\n",
       "      <td>This is a great, reliable phone. I also purcha...</td>\n",
       "      <td>5.0</td>\n",
       "      <td>Nokia</td>\n",
       "      <td>Dual-Band / Tri-Mode Sprint PCS Phone w/ Voice...</td>\n",
       "      <td>https://www.amazon.com/Dual-Band-Tri-Mode-Acti...</td>\n",
       "      <td>https://m.media-amazon.com/images/I/2143EBQ210...</td>\n",
       "      <td>3.0</td>\n",
       "      <td>https://www.amazon.com/product-reviews/B0000SX2UC</td>\n",
       "      <td>14</td>\n",
       "      <td>NaN</td>\n",
       "    </tr>\n",
       "    <tr>\n",
       "      <th>3</th>\n",
       "      <td>B0000SX2UC</td>\n",
       "      <td>amy m. teague</td>\n",
       "      <td>3</td>\n",
       "      <td>March 18, 2004</td>\n",
       "      <td>False</td>\n",
       "      <td>Love the Phone, BUT...!</td>\n",
       "      <td>I love the phone and all, because I really did...</td>\n",
       "      <td>1.0</td>\n",
       "      <td>Nokia</td>\n",
       "      <td>Dual-Band / Tri-Mode Sprint PCS Phone w/ Voice...</td>\n",
       "      <td>https://www.amazon.com/Dual-Band-Tri-Mode-Acti...</td>\n",
       "      <td>https://m.media-amazon.com/images/I/2143EBQ210...</td>\n",
       "      <td>3.0</td>\n",
       "      <td>https://www.amazon.com/product-reviews/B0000SX2UC</td>\n",
       "      <td>14</td>\n",
       "      <td>NaN</td>\n",
       "    </tr>\n",
       "    <tr>\n",
       "      <th>4</th>\n",
       "      <td>B0000SX2UC</td>\n",
       "      <td>tristazbimmer</td>\n",
       "      <td>4</td>\n",
       "      <td>August 28, 2005</td>\n",
       "      <td>False</td>\n",
       "      <td>Great phone service and options, lousy case!</td>\n",
       "      <td>The phone has been great for every purpose it ...</td>\n",
       "      <td>1.0</td>\n",
       "      <td>Nokia</td>\n",
       "      <td>Dual-Band / Tri-Mode Sprint PCS Phone w/ Voice...</td>\n",
       "      <td>https://www.amazon.com/Dual-Band-Tri-Mode-Acti...</td>\n",
       "      <td>https://m.media-amazon.com/images/I/2143EBQ210...</td>\n",
       "      <td>3.0</td>\n",
       "      <td>https://www.amazon.com/product-reviews/B0000SX2UC</td>\n",
       "      <td>14</td>\n",
       "      <td>NaN</td>\n",
       "    </tr>\n",
       "  </tbody>\n",
       "</table>\n",
       "</div>"
      ],
      "text/plain": [
       "         asin           name  rating_x               date  verified  \\\n",
       "0  B0000SX2UC          Janet         3   October 11, 2005     False   \n",
       "1  B0000SX2UC     Luke Wyatt         1    January 7, 2004     False   \n",
       "2  B0000SX2UC         Brooke         5  December 30, 2003     False   \n",
       "3  B0000SX2UC  amy m. teague         3     March 18, 2004     False   \n",
       "4  B0000SX2UC  tristazbimmer         4    August 28, 2005     False   \n",
       "\n",
       "                                        title_x  \\\n",
       "0                   Def not best, but not worst   \n",
       "1                   Text Messaging Doesn't Work   \n",
       "2                               Love This Phone   \n",
       "3                       Love the Phone, BUT...!   \n",
       "4  Great phone service and options, lousy case!   \n",
       "\n",
       "                                                body  helpfulVotes  brand  \\\n",
       "0  I had the Samsung A600 for awhile which is abs...           1.0  Nokia   \n",
       "1  Due to a software issue between Nokia and Spri...          17.0  Nokia   \n",
       "2  This is a great, reliable phone. I also purcha...           5.0  Nokia   \n",
       "3  I love the phone and all, because I really did...           1.0  Nokia   \n",
       "4  The phone has been great for every purpose it ...           1.0  Nokia   \n",
       "\n",
       "                                             title_y  \\\n",
       "0  Dual-Band / Tri-Mode Sprint PCS Phone w/ Voice...   \n",
       "1  Dual-Band / Tri-Mode Sprint PCS Phone w/ Voice...   \n",
       "2  Dual-Band / Tri-Mode Sprint PCS Phone w/ Voice...   \n",
       "3  Dual-Band / Tri-Mode Sprint PCS Phone w/ Voice...   \n",
       "4  Dual-Band / Tri-Mode Sprint PCS Phone w/ Voice...   \n",
       "\n",
       "                                                 url  \\\n",
       "0  https://www.amazon.com/Dual-Band-Tri-Mode-Acti...   \n",
       "1  https://www.amazon.com/Dual-Band-Tri-Mode-Acti...   \n",
       "2  https://www.amazon.com/Dual-Band-Tri-Mode-Acti...   \n",
       "3  https://www.amazon.com/Dual-Band-Tri-Mode-Acti...   \n",
       "4  https://www.amazon.com/Dual-Band-Tri-Mode-Acti...   \n",
       "\n",
       "                                               image  rating_y  \\\n",
       "0  https://m.media-amazon.com/images/I/2143EBQ210...       3.0   \n",
       "1  https://m.media-amazon.com/images/I/2143EBQ210...       3.0   \n",
       "2  https://m.media-amazon.com/images/I/2143EBQ210...       3.0   \n",
       "3  https://m.media-amazon.com/images/I/2143EBQ210...       3.0   \n",
       "4  https://m.media-amazon.com/images/I/2143EBQ210...       3.0   \n",
       "\n",
       "                                           reviewUrl  totalReviews prices  \n",
       "0  https://www.amazon.com/product-reviews/B0000SX2UC            14    NaN  \n",
       "1  https://www.amazon.com/product-reviews/B0000SX2UC            14    NaN  \n",
       "2  https://www.amazon.com/product-reviews/B0000SX2UC            14    NaN  \n",
       "3  https://www.amazon.com/product-reviews/B0000SX2UC            14    NaN  \n",
       "4  https://www.amazon.com/product-reviews/B0000SX2UC            14    NaN  "
      ]
     },
     "execution_count": 7,
     "metadata": {},
     "output_type": "execute_result"
    }
   ],
   "source": [
    "df_merged_reviews = pd.merge(df_reviews, df_items, how='left', left_on='asin', right_on='asin')\n",
    "df_merged_reviews.head()"
   ]
  },
  {
   "cell_type": "markdown",
   "metadata": {},
   "source": [
    "### Rename cols"
   ]
  },
  {
   "cell_type": "code",
   "execution_count": 8,
   "metadata": {},
   "outputs": [
    {
     "data": {
      "text/html": [
       "<div>\n",
       "<style scoped>\n",
       "    .dataframe tbody tr th:only-of-type {\n",
       "        vertical-align: middle;\n",
       "    }\n",
       "\n",
       "    .dataframe tbody tr th {\n",
       "        vertical-align: top;\n",
       "    }\n",
       "\n",
       "    .dataframe thead th {\n",
       "        text-align: right;\n",
       "    }\n",
       "</style>\n",
       "<table border=\"1\" class=\"dataframe\">\n",
       "  <thead>\n",
       "    <tr style=\"text-align: right;\">\n",
       "      <th></th>\n",
       "      <th>asin</th>\n",
       "      <th>name</th>\n",
       "      <th>rating</th>\n",
       "      <th>date</th>\n",
       "      <th>verified</th>\n",
       "      <th>title</th>\n",
       "      <th>body</th>\n",
       "      <th>helpfulVotes</th>\n",
       "      <th>brand</th>\n",
       "      <th>items_title</th>\n",
       "      <th>url</th>\n",
       "      <th>image</th>\n",
       "      <th>overall_rating</th>\n",
       "      <th>reviewUrl</th>\n",
       "      <th>totalReviews</th>\n",
       "      <th>prices</th>\n",
       "    </tr>\n",
       "  </thead>\n",
       "  <tbody>\n",
       "    <tr>\n",
       "      <th>0</th>\n",
       "      <td>B0000SX2UC</td>\n",
       "      <td>Janet</td>\n",
       "      <td>3</td>\n",
       "      <td>October 11, 2005</td>\n",
       "      <td>False</td>\n",
       "      <td>Def not best, but not worst</td>\n",
       "      <td>I had the Samsung A600 for awhile which is abs...</td>\n",
       "      <td>1.0</td>\n",
       "      <td>Nokia</td>\n",
       "      <td>Dual-Band / Tri-Mode Sprint PCS Phone w/ Voice...</td>\n",
       "      <td>https://www.amazon.com/Dual-Band-Tri-Mode-Acti...</td>\n",
       "      <td>https://m.media-amazon.com/images/I/2143EBQ210...</td>\n",
       "      <td>3.0</td>\n",
       "      <td>https://www.amazon.com/product-reviews/B0000SX2UC</td>\n",
       "      <td>14</td>\n",
       "      <td>NaN</td>\n",
       "    </tr>\n",
       "    <tr>\n",
       "      <th>1</th>\n",
       "      <td>B0000SX2UC</td>\n",
       "      <td>Luke Wyatt</td>\n",
       "      <td>1</td>\n",
       "      <td>January 7, 2004</td>\n",
       "      <td>False</td>\n",
       "      <td>Text Messaging Doesn't Work</td>\n",
       "      <td>Due to a software issue between Nokia and Spri...</td>\n",
       "      <td>17.0</td>\n",
       "      <td>Nokia</td>\n",
       "      <td>Dual-Band / Tri-Mode Sprint PCS Phone w/ Voice...</td>\n",
       "      <td>https://www.amazon.com/Dual-Band-Tri-Mode-Acti...</td>\n",
       "      <td>https://m.media-amazon.com/images/I/2143EBQ210...</td>\n",
       "      <td>3.0</td>\n",
       "      <td>https://www.amazon.com/product-reviews/B0000SX2UC</td>\n",
       "      <td>14</td>\n",
       "      <td>NaN</td>\n",
       "    </tr>\n",
       "    <tr>\n",
       "      <th>2</th>\n",
       "      <td>B0000SX2UC</td>\n",
       "      <td>Brooke</td>\n",
       "      <td>5</td>\n",
       "      <td>December 30, 2003</td>\n",
       "      <td>False</td>\n",
       "      <td>Love This Phone</td>\n",
       "      <td>This is a great, reliable phone. I also purcha...</td>\n",
       "      <td>5.0</td>\n",
       "      <td>Nokia</td>\n",
       "      <td>Dual-Band / Tri-Mode Sprint PCS Phone w/ Voice...</td>\n",
       "      <td>https://www.amazon.com/Dual-Band-Tri-Mode-Acti...</td>\n",
       "      <td>https://m.media-amazon.com/images/I/2143EBQ210...</td>\n",
       "      <td>3.0</td>\n",
       "      <td>https://www.amazon.com/product-reviews/B0000SX2UC</td>\n",
       "      <td>14</td>\n",
       "      <td>NaN</td>\n",
       "    </tr>\n",
       "    <tr>\n",
       "      <th>3</th>\n",
       "      <td>B0000SX2UC</td>\n",
       "      <td>amy m. teague</td>\n",
       "      <td>3</td>\n",
       "      <td>March 18, 2004</td>\n",
       "      <td>False</td>\n",
       "      <td>Love the Phone, BUT...!</td>\n",
       "      <td>I love the phone and all, because I really did...</td>\n",
       "      <td>1.0</td>\n",
       "      <td>Nokia</td>\n",
       "      <td>Dual-Band / Tri-Mode Sprint PCS Phone w/ Voice...</td>\n",
       "      <td>https://www.amazon.com/Dual-Band-Tri-Mode-Acti...</td>\n",
       "      <td>https://m.media-amazon.com/images/I/2143EBQ210...</td>\n",
       "      <td>3.0</td>\n",
       "      <td>https://www.amazon.com/product-reviews/B0000SX2UC</td>\n",
       "      <td>14</td>\n",
       "      <td>NaN</td>\n",
       "    </tr>\n",
       "    <tr>\n",
       "      <th>4</th>\n",
       "      <td>B0000SX2UC</td>\n",
       "      <td>tristazbimmer</td>\n",
       "      <td>4</td>\n",
       "      <td>August 28, 2005</td>\n",
       "      <td>False</td>\n",
       "      <td>Great phone service and options, lousy case!</td>\n",
       "      <td>The phone has been great for every purpose it ...</td>\n",
       "      <td>1.0</td>\n",
       "      <td>Nokia</td>\n",
       "      <td>Dual-Band / Tri-Mode Sprint PCS Phone w/ Voice...</td>\n",
       "      <td>https://www.amazon.com/Dual-Band-Tri-Mode-Acti...</td>\n",
       "      <td>https://m.media-amazon.com/images/I/2143EBQ210...</td>\n",
       "      <td>3.0</td>\n",
       "      <td>https://www.amazon.com/product-reviews/B0000SX2UC</td>\n",
       "      <td>14</td>\n",
       "      <td>NaN</td>\n",
       "    </tr>\n",
       "  </tbody>\n",
       "</table>\n",
       "</div>"
      ],
      "text/plain": [
       "         asin           name  rating               date  verified  \\\n",
       "0  B0000SX2UC          Janet       3   October 11, 2005     False   \n",
       "1  B0000SX2UC     Luke Wyatt       1    January 7, 2004     False   \n",
       "2  B0000SX2UC         Brooke       5  December 30, 2003     False   \n",
       "3  B0000SX2UC  amy m. teague       3     March 18, 2004     False   \n",
       "4  B0000SX2UC  tristazbimmer       4    August 28, 2005     False   \n",
       "\n",
       "                                          title  \\\n",
       "0                   Def not best, but not worst   \n",
       "1                   Text Messaging Doesn't Work   \n",
       "2                               Love This Phone   \n",
       "3                       Love the Phone, BUT...!   \n",
       "4  Great phone service and options, lousy case!   \n",
       "\n",
       "                                                body  helpfulVotes  brand  \\\n",
       "0  I had the Samsung A600 for awhile which is abs...           1.0  Nokia   \n",
       "1  Due to a software issue between Nokia and Spri...          17.0  Nokia   \n",
       "2  This is a great, reliable phone. I also purcha...           5.0  Nokia   \n",
       "3  I love the phone and all, because I really did...           1.0  Nokia   \n",
       "4  The phone has been great for every purpose it ...           1.0  Nokia   \n",
       "\n",
       "                                         items_title  \\\n",
       "0  Dual-Band / Tri-Mode Sprint PCS Phone w/ Voice...   \n",
       "1  Dual-Band / Tri-Mode Sprint PCS Phone w/ Voice...   \n",
       "2  Dual-Band / Tri-Mode Sprint PCS Phone w/ Voice...   \n",
       "3  Dual-Band / Tri-Mode Sprint PCS Phone w/ Voice...   \n",
       "4  Dual-Band / Tri-Mode Sprint PCS Phone w/ Voice...   \n",
       "\n",
       "                                                 url  \\\n",
       "0  https://www.amazon.com/Dual-Band-Tri-Mode-Acti...   \n",
       "1  https://www.amazon.com/Dual-Band-Tri-Mode-Acti...   \n",
       "2  https://www.amazon.com/Dual-Band-Tri-Mode-Acti...   \n",
       "3  https://www.amazon.com/Dual-Band-Tri-Mode-Acti...   \n",
       "4  https://www.amazon.com/Dual-Band-Tri-Mode-Acti...   \n",
       "\n",
       "                                               image  overall_rating  \\\n",
       "0  https://m.media-amazon.com/images/I/2143EBQ210...             3.0   \n",
       "1  https://m.media-amazon.com/images/I/2143EBQ210...             3.0   \n",
       "2  https://m.media-amazon.com/images/I/2143EBQ210...             3.0   \n",
       "3  https://m.media-amazon.com/images/I/2143EBQ210...             3.0   \n",
       "4  https://m.media-amazon.com/images/I/2143EBQ210...             3.0   \n",
       "\n",
       "                                           reviewUrl  totalReviews prices  \n",
       "0  https://www.amazon.com/product-reviews/B0000SX2UC            14    NaN  \n",
       "1  https://www.amazon.com/product-reviews/B0000SX2UC            14    NaN  \n",
       "2  https://www.amazon.com/product-reviews/B0000SX2UC            14    NaN  \n",
       "3  https://www.amazon.com/product-reviews/B0000SX2UC            14    NaN  \n",
       "4  https://www.amazon.com/product-reviews/B0000SX2UC            14    NaN  "
      ]
     },
     "execution_count": 8,
     "metadata": {},
     "output_type": "execute_result"
    }
   ],
   "source": [
    "df_merged_reviews.rename(columns={'rating_x': 'rating', \\\n",
    "                                 'title_x': 'title', \\\n",
    "                                 'title_y': 'items_title', \\\n",
    "                                 'rating_y': 'overall_rating'}, inplace=True)\n",
    "df_merged_reviews.head()"
   ]
  },
  {
   "cell_type": "markdown",
   "metadata": {},
   "source": [
    "### Convert str into datetime"
   ]
  },
  {
   "cell_type": "code",
   "execution_count": 9,
   "metadata": {},
   "outputs": [
    {
     "data": {
      "text/plain": [
       "0   2005-10-11\n",
       "1   2004-01-07\n",
       "2   2003-12-30\n",
       "3   2004-03-18\n",
       "4   2005-08-28\n",
       "Name: date, dtype: datetime64[ns]"
      ]
     },
     "execution_count": 9,
     "metadata": {},
     "output_type": "execute_result"
    }
   ],
   "source": [
    "from datetime import datetime\n",
    "\n",
    "df_merged_reviews['date'] = df_merged_reviews['date'].apply(lambda x: datetime.strptime(str(x), '%B %d, %Y'))\n",
    "df_merged_reviews['date'].head()"
   ]
  },
  {
   "cell_type": "markdown",
   "metadata": {},
   "source": [
    "### Truncate date col to month"
   ]
  },
  {
   "cell_type": "code",
   "execution_count": 10,
   "metadata": {},
   "outputs": [
    {
     "data": {
      "text/plain": [
       "0   2005-10-01\n",
       "1   2004-01-01\n",
       "2   2003-12-01\n",
       "3   2004-03-01\n",
       "4   2005-08-01\n",
       "Name: month, dtype: datetime64[ns]"
      ]
     },
     "execution_count": 10,
     "metadata": {},
     "output_type": "execute_result"
    }
   ],
   "source": [
    "df_merged_reviews['month'] = df_merged_reviews['date'].apply(lambda x: x.replace(day=1))\n",
    "df_merged_reviews['month'].head()"
   ]
  },
  {
   "cell_type": "markdown",
   "metadata": {},
   "source": [
    "### Plot df_reviews over time"
   ]
  },
  {
   "cell_type": "code",
   "execution_count": 11,
   "metadata": {},
   "outputs": [
    {
     "data": {
      "text/plain": [
       "<matplotlib.legend.Legend at 0x2ad36d1b8d0>"
      ]
     },
     "execution_count": 11,
     "metadata": {},
     "output_type": "execute_result"
    },
    {
     "data": {
      "image/png": "[encoded data removed]",
      "text/plain": [
       "<Figure size 864x576 with 1 Axes>"
      ]
     },
     "metadata": {
      "needs_background": "light"
     },
     "output_type": "display_data"
    }
   ],
   "source": [
    "ax = pd.pivot_table(df_merged_reviews, index='month', columns='brand', values='asin', aggfunc='count', fill_value=0).plot.area(figsize=(12,8))\n",
    "\n",
    "ax.set_title('Monthly Number of Reviews per Brand', fontsize=20, fontweight='bold', pad=40)\n",
    "ax.set_ylabel('Number of Reviews per Brand')\n",
    "plt.legend(fontsize=12)"
   ]
  },
  {
   "cell_type": "markdown",
   "metadata": {},
   "source": [
    "### Add 'Positivity' label to df_merged_reviews"
   ]
  },
  {
   "cell_type": "code",
   "execution_count": 12,
   "metadata": {},
   "outputs": [
    {
     "data": {
      "text/html": [
       "<div>\n",
       "<style scoped>\n",
       "    .dataframe tbody tr th:only-of-type {\n",
       "        vertical-align: middle;\n",
       "    }\n",
       "\n",
       "    .dataframe tbody tr th {\n",
       "        vertical-align: top;\n",
       "    }\n",
       "\n",
       "    .dataframe thead th {\n",
       "        text-align: right;\n",
       "    }\n",
       "</style>\n",
       "<table border=\"1\" class=\"dataframe\">\n",
       "  <thead>\n",
       "    <tr style=\"text-align: right;\">\n",
       "      <th></th>\n",
       "      <th>positivity</th>\n",
       "    </tr>\n",
       "  </thead>\n",
       "  <tbody>\n",
       "    <tr>\n",
       "      <th>0</th>\n",
       "      <td>0</td>\n",
       "    </tr>\n",
       "    <tr>\n",
       "      <th>1</th>\n",
       "      <td>-1</td>\n",
       "    </tr>\n",
       "    <tr>\n",
       "      <th>2</th>\n",
       "      <td>1</td>\n",
       "    </tr>\n",
       "    <tr>\n",
       "      <th>3</th>\n",
       "      <td>0</td>\n",
       "    </tr>\n",
       "    <tr>\n",
       "      <th>4</th>\n",
       "      <td>1</td>\n",
       "    </tr>\n",
       "  </tbody>\n",
       "</table>\n",
       "</div>"
      ],
      "text/plain": [
       "   positivity\n",
       "0           0\n",
       "1          -1\n",
       "2           1\n",
       "3           0\n",
       "4           1"
      ]
     },
     "execution_count": 12,
     "metadata": {},
     "output_type": "execute_result"
    }
   ],
   "source": [
    "df_merged_reviews['positivity'] = df_merged_reviews['rating'].apply(lambda x: 1 if x>3 else (0 if x ==3 else -1))\n",
    "df_merged_reviews[['positivity']].head()"
   ]
  },
  {
   "cell_type": "markdown",
   "metadata": {},
   "source": [
    "# Text Cleaning\n",
    "* Convert the text into lowercase\n",
    "* Remove punctuation\n",
    "* Remove stopwords (English, from nltk corpus)\n",
    "* Remove other keywords like 'phone' and brand name"
   ]
  },
  {
   "cell_type": "code",
   "execution_count": 13,
   "metadata": {},
   "outputs": [],
   "source": [
    "!pip3 install nltk"
   ]
  },
  {
   "cell_type": "code",
   "execution_count": 14,
   "metadata": {},
   "outputs": [
    {
     "name": "stderr",
     "output_type": "stream",
     "text": [
      "[nltk_data] Downloading package stopwords to\n",
      "[nltk_data]     C:\\Users\\jabchoi\\AppData\\Roaming\\nltk_data...\n",
      "[nltk_data]   Package stopwords is already up-to-date!\n",
      "[nltk_data] Downloading package wordnet to\n",
      "[nltk_data]     C:\\Users\\jabchoi\\AppData\\Roaming\\nltk_data...\n",
      "[nltk_data]   Package wordnet is already up-to-date!\n"
     ]
    },
    {
     "data": {
      "text/plain": [
       "True"
      ]
     },
     "execution_count": 14,
     "metadata": {},
     "output_type": "execute_result"
    }
   ],
   "source": [
    "from nltk.stem.wordnet import WordNetLemmatizer\n",
    "from nltk.corpus import stopwords\n",
    "import nltk\n",
    "import string\n",
    "\n",
    "nltk.download('stopwords')\n",
    "nltk.download('wordnet')"
   ]
  },
  {
   "cell_type": "code",
   "execution_count": 15,
   "metadata": {},
   "outputs": [],
   "source": [
    "stop = set(stopwords.words('english'))           # Ignore meaningless words like 'is', 'a', 'the', 'I' etc\n",
    "punc = set(string.punctuation)                   # !\"#$%&'()*+, -./:;<=>?@[\\]^_`{|}~\n",
    "\n",
    "keywords = df_merged_reviews['brand'].apply(lambda x: x.lower()).unique().tolist()  # ['nokia', 'motorola', 'sony', 'samsung', 'huawei', 'apple', 'oneplus', 'google', 'asus', 'xiaomi']\n",
    "keywords.append('phone')\n",
    "\n",
    "lemma = WordNetLemmatizer()                      # Lemmantize words. For example, studies >>>> study"
   ]
  },
  {
   "cell_type": "code",
   "execution_count": 16,
   "metadata": {},
   "outputs": [
    {
     "data": {
      "text/plain": [
       "'love reading book'"
      ]
     },
     "execution_count": 16,
     "metadata": {},
     "output_type": "execute_result"
    }
   ],
   "source": [
    "# Create a function\n",
    "def clean_text(text):\n",
    "    text = text.lower()\n",
    "    wordList = text.split()    # split into list\n",
    "    wordList = [\"\".join(x for x in word if (x==\"'\") | (x not in punc)) for word in wordList ]      # remove punctuation\n",
    "    wordList = [word for word in wordList if word not in stop]       # remove stopwords\n",
    "    wordList = [word for word in wordList if word not in keywords]   # remove other keywords\n",
    "    wordList = [lemma.lemmatize(word) for word in wordList]\n",
    "    \n",
    "    return \" \".join(wordList)\n",
    "\n",
    "\n",
    "clean_text('I love reading books.')"
   ]
  },
  {
   "cell_type": "code",
   "execution_count": 17,
   "metadata": {},
   "outputs": [],
   "source": [
    "df_merged_reviews['body'] = df_merged_reviews['body'].astype('str')\n",
    "df_merged_reviews['clean_text'] = df_merged_reviews['body'].apply(clean_text)"
   ]
  },
  {
   "cell_type": "code",
   "execution_count": 18,
   "metadata": {},
   "outputs": [
    {
     "data": {
      "text/plain": [
       "0    a600 awhile absolute doo doo read review detec...\n",
       "1    due software issue sprint phone's text messagi...\n",
       "2    great reliable also purchased a460 died menu e...\n",
       "3    love really need one expect price bill receive...\n",
       "4    great every purpose offer except day bought it...\n",
       "Name: clean_text, dtype: object"
      ]
     },
     "execution_count": 18,
     "metadata": {},
     "output_type": "execute_result"
    }
   ],
   "source": [
    "df_merged_reviews['clean_text'].head()"
   ]
  },
  {
   "cell_type": "markdown",
   "metadata": {},
   "source": [
    "# Word Cloud\n",
    "Given the size of the dataset, we created wordclouds only for the latest 1000 positive and negative reviews for Apple, Samsung and Xiaomi separately. The wordclouds are based on the frequency of words."
   ]
  },
  {
   "cell_type": "code",
   "execution_count": 19,
   "metadata": {},
   "outputs": [
    {
     "data": {
      "text/plain": [
       "{'I': 2, 'love': 2, 'reading': 1, 'books.': 1, 'music': 1, 'as': 1, 'well': 1}"
      ]
     },
     "execution_count": 19,
     "metadata": {},
     "output_type": "execute_result"
    }
   ],
   "source": [
    "def word_freq_dict(text):\n",
    "    wordList = text.split()  # splits a string into a list\n",
    "    wordFreqDict = {word: wordList.count(word) for word in wordList}\n",
    "    \n",
    "    return wordFreqDict\n",
    "\n",
    "word_freq_dict('I love reading books. I love music as well')"
   ]
  },
  {
   "cell_type": "code",
   "execution_count": 20,
   "metadata": {},
   "outputs": [
    {
     "data": {
      "text/html": [
       "<div>\n",
       "<style scoped>\n",
       "    .dataframe tbody tr th:only-of-type {\n",
       "        vertical-align: middle;\n",
       "    }\n",
       "\n",
       "    .dataframe tbody tr th {\n",
       "        vertical-align: top;\n",
       "    }\n",
       "\n",
       "    .dataframe thead th {\n",
       "        text-align: right;\n",
       "    }\n",
       "</style>\n",
       "<table border=\"1\" class=\"dataframe\">\n",
       "  <thead>\n",
       "    <tr style=\"text-align: right;\">\n",
       "      <th></th>\n",
       "      <th>asin</th>\n",
       "      <th>name</th>\n",
       "      <th>rating</th>\n",
       "      <th>date</th>\n",
       "      <th>verified</th>\n",
       "      <th>title</th>\n",
       "      <th>body</th>\n",
       "      <th>helpfulVotes</th>\n",
       "      <th>brand</th>\n",
       "      <th>items_title</th>\n",
       "      <th>url</th>\n",
       "      <th>image</th>\n",
       "      <th>overall_rating</th>\n",
       "      <th>reviewUrl</th>\n",
       "      <th>totalReviews</th>\n",
       "      <th>prices</th>\n",
       "      <th>month</th>\n",
       "      <th>positivity</th>\n",
       "      <th>clean_text</th>\n",
       "    </tr>\n",
       "  </thead>\n",
       "  <tbody>\n",
       "    <tr>\n",
       "      <th>57649</th>\n",
       "      <td>B07752FPVQ</td>\n",
       "      <td>Agustina Arias</td>\n",
       "      <td>1</td>\n",
       "      <td>2019-09-27</td>\n",
       "      <td>True</td>\n",
       "      <td>Está bloqueado</td>\n",
       "      <td>No funciona, está bloqueado</td>\n",
       "      <td>NaN</td>\n",
       "      <td>Apple</td>\n",
       "      <td>Apple iPhone 8 Plus, GSM Unlocked, 64GB - Gold...</td>\n",
       "      <td>https://www.amazon.com/Apple-iPhone-Plus-Unloc...</td>\n",
       "      <td>https://m.media-amazon.com/images/I/71Ybg7nIAH...</td>\n",
       "      <td>4.1</td>\n",
       "      <td>https://www.amazon.com/product-reviews/B07752FPVQ</td>\n",
       "      <td>444</td>\n",
       "      <td>$479.99</td>\n",
       "      <td>2019-09-01</td>\n",
       "      <td>-1</td>\n",
       "      <td>funciona está bloqueado</td>\n",
       "    </tr>\n",
       "    <tr>\n",
       "      <th>58553</th>\n",
       "      <td>B0775FLHPN</td>\n",
       "      <td>Agustina Arias</td>\n",
       "      <td>1</td>\n",
       "      <td>2019-09-27</td>\n",
       "      <td>True</td>\n",
       "      <td>Está bloqueado</td>\n",
       "      <td>No funciona, está bloqueado</td>\n",
       "      <td>NaN</td>\n",
       "      <td>Apple</td>\n",
       "      <td>Apple iPhone 8 Plus, GSM Unlocked, 64GB - Spac...</td>\n",
       "      <td>https://www.amazon.com/Apple-iPhone-Plus-Unloc...</td>\n",
       "      <td>https://m.media-amazon.com/images/I/71MRY6+c8p...</td>\n",
       "      <td>4.1</td>\n",
       "      <td>https://www.amazon.com/product-reviews/B0775FLHPN</td>\n",
       "      <td>444</td>\n",
       "      <td>$465.00</td>\n",
       "      <td>2019-09-01</td>\n",
       "      <td>-1</td>\n",
       "      <td>funciona está bloqueado</td>\n",
       "    </tr>\n",
       "    <tr>\n",
       "      <th>24323</th>\n",
       "      <td>B014Z8HDWU</td>\n",
       "      <td>JoAnne</td>\n",
       "      <td>5</td>\n",
       "      <td>2019-09-26</td>\n",
       "      <td>True</td>\n",
       "      <td>The quality</td>\n",
       "      <td>My husband is enjoying his new phone!</td>\n",
       "      <td>NaN</td>\n",
       "      <td>Apple</td>\n",
       "      <td>Apple iPhone 6, GSM Unlocked, 64GB - Space Gra...</td>\n",
       "      <td>https://www.amazon.com/Apple-iPhone-GSM-Unlock...</td>\n",
       "      <td>https://m.media-amazon.com/images/I/913VoEdo-4...</td>\n",
       "      <td>3.0</td>\n",
       "      <td>https://www.amazon.com/product-reviews/B014Z8HDWU</td>\n",
       "      <td>622</td>\n",
       "      <td>$139.98</td>\n",
       "      <td>2019-09-01</td>\n",
       "      <td>1</td>\n",
       "      <td>husband enjoying new</td>\n",
       "    </tr>\n",
       "    <tr>\n",
       "      <th>61940</th>\n",
       "      <td>B079HB518K</td>\n",
       "      <td>L. Novakovic</td>\n",
       "      <td>4</td>\n",
       "      <td>2019-09-26</td>\n",
       "      <td>True</td>\n",
       "      <td>So far so good!</td>\n",
       "      <td>So far so good. My son has reported no problem...</td>\n",
       "      <td>NaN</td>\n",
       "      <td>Apple</td>\n",
       "      <td>Apple iPhone 7, GSM Unlocked, 32GB - Rose Gold...</td>\n",
       "      <td>https://www.amazon.com/Apple-iPhone-GSM-Unlock...</td>\n",
       "      <td>https://m.media-amazon.com/images/I/71x3e0x+M2...</td>\n",
       "      <td>3.9</td>\n",
       "      <td>https://www.amazon.com/product-reviews/B079HB518K</td>\n",
       "      <td>79</td>\n",
       "      <td>$212.00</td>\n",
       "      <td>2019-09-01</td>\n",
       "      <td>1</td>\n",
       "      <td>far good son reported problem like great condi...</td>\n",
       "    </tr>\n",
       "    <tr>\n",
       "      <th>67963</th>\n",
       "      <td>B07FRWH1R3</td>\n",
       "      <td>Kristen Wade</td>\n",
       "      <td>5</td>\n",
       "      <td>2019-09-26</td>\n",
       "      <td>True</td>\n",
       "      <td>Perfectly Perfect!</td>\n",
       "      <td>I got my phone today and I love it! It’s compl...</td>\n",
       "      <td>NaN</td>\n",
       "      <td>Apple</td>\n",
       "      <td>Apple iPhone 8 Plus, 64GB, Red - For AT&amp;T / T-...</td>\n",
       "      <td>https://www.amazon.com/Apple-iPhone-special-Pr...</td>\n",
       "      <td>https://m.media-amazon.com/images/I/51+wAHd8wO...</td>\n",
       "      <td>4.2</td>\n",
       "      <td>https://www.amazon.com/product-reviews/B07FRWH1R3</td>\n",
       "      <td>60</td>\n",
       "      <td>NaN</td>\n",
       "      <td>2019-09-01</td>\n",
       "      <td>1</td>\n",
       "      <td>got today love it’s completely perfect worked ...</td>\n",
       "    </tr>\n",
       "  </tbody>\n",
       "</table>\n",
       "</div>"
      ],
      "text/plain": [
       "             asin            name  rating       date  verified  \\\n",
       "57649  B07752FPVQ  Agustina Arias       1 2019-09-27      True   \n",
       "58553  B0775FLHPN  Agustina Arias       1 2019-09-27      True   \n",
       "24323  B014Z8HDWU          JoAnne       5 2019-09-26      True   \n",
       "61940  B079HB518K    L. Novakovic       4 2019-09-26      True   \n",
       "67963  B07FRWH1R3    Kristen Wade       5 2019-09-26      True   \n",
       "\n",
       "                    title                                               body  \\\n",
       "57649      Está bloqueado                        No funciona, está bloqueado   \n",
       "58553      Está bloqueado                        No funciona, está bloqueado   \n",
       "24323         The quality              My husband is enjoying his new phone!   \n",
       "61940     So far so good!  So far so good. My son has reported no problem...   \n",
       "67963  Perfectly Perfect!  I got my phone today and I love it! It’s compl...   \n",
       "\n",
       "       helpfulVotes  brand                                        items_title  \\\n",
       "57649           NaN  Apple  Apple iPhone 8 Plus, GSM Unlocked, 64GB - Gold...   \n",
       "58553           NaN  Apple  Apple iPhone 8 Plus, GSM Unlocked, 64GB - Spac...   \n",
       "24323           NaN  Apple  Apple iPhone 6, GSM Unlocked, 64GB - Space Gra...   \n",
       "61940           NaN  Apple  Apple iPhone 7, GSM Unlocked, 32GB - Rose Gold...   \n",
       "67963           NaN  Apple  Apple iPhone 8 Plus, 64GB, Red - For AT&T / T-...   \n",
       "\n",
       "                                                     url  \\\n",
       "57649  https://www.amazon.com/Apple-iPhone-Plus-Unloc...   \n",
       "58553  https://www.amazon.com/Apple-iPhone-Plus-Unloc...   \n",
       "24323  https://www.amazon.com/Apple-iPhone-GSM-Unlock...   \n",
       "61940  https://www.amazon.com/Apple-iPhone-GSM-Unlock...   \n",
       "67963  https://www.amazon.com/Apple-iPhone-special-Pr...   \n",
       "\n",
       "                                                   image  overall_rating  \\\n",
       "57649  https://m.media-amazon.com/images/I/71Ybg7nIAH...             4.1   \n",
       "58553  https://m.media-amazon.com/images/I/71MRY6+c8p...             4.1   \n",
       "24323  https://m.media-amazon.com/images/I/913VoEdo-4...             3.0   \n",
       "61940  https://m.media-amazon.com/images/I/71x3e0x+M2...             3.9   \n",
       "67963  https://m.media-amazon.com/images/I/51+wAHd8wO...             4.2   \n",
       "\n",
       "                                               reviewUrl  totalReviews  \\\n",
       "57649  https://www.amazon.com/product-reviews/B07752FPVQ           444   \n",
       "58553  https://www.amazon.com/product-reviews/B0775FLHPN           444   \n",
       "24323  https://www.amazon.com/product-reviews/B014Z8HDWU           622   \n",
       "61940  https://www.amazon.com/product-reviews/B079HB518K            79   \n",
       "67963  https://www.amazon.com/product-reviews/B07FRWH1R3            60   \n",
       "\n",
       "        prices      month  positivity  \\\n",
       "57649  $479.99 2019-09-01          -1   \n",
       "58553  $465.00 2019-09-01          -1   \n",
       "24323  $139.98 2019-09-01           1   \n",
       "61940  $212.00 2019-09-01           1   \n",
       "67963      NaN 2019-09-01           1   \n",
       "\n",
       "                                              clean_text  \n",
       "57649                            funciona está bloqueado  \n",
       "58553                            funciona está bloqueado  \n",
       "24323                               husband enjoying new  \n",
       "61940  far good son reported problem like great condi...  \n",
       "67963  got today love it’s completely perfect worked ...  "
      ]
     },
     "execution_count": 20,
     "metadata": {},
     "output_type": "execute_result"
    }
   ],
   "source": [
    "apple_sub = df_merged_reviews[df_merged_reviews['brand'] == 'Apple'].sort_values(by=['date'], ascending=False)\n",
    "samsung_sub = df_merged_reviews[df_merged_reviews['brand'] == 'Samsung'].sort_values(by=['date'], ascending=False)\n",
    "xiaomi_sub = df_merged_reviews[df_merged_reviews['brand'] == 'Xiaomi'].sort_values(by=['date'], ascending=False)\n",
    "\n",
    "apple_sub.head()     # See how the data frame looks like"
   ]
  },
  {
   "cell_type": "code",
   "execution_count": 21,
   "metadata": {},
   "outputs": [
    {
     "name": "stdout",
     "output_type": "stream",
     "text": [
      "Requirement already satisfied: wordcloud in c:\\users\\jabchoi\\appdata\\local\\continuum\\anaconda3\\envs\\python36\\lib\\site-packages (1.6.0)\n",
      "Requirement already satisfied: pillow in c:\\users\\jabchoi\\appdata\\local\\continuum\\anaconda3\\envs\\python36\\lib\\site-packages (from wordcloud) (6.2.1)\n",
      "Requirement already satisfied: numpy>=1.6.1 in c:\\users\\jabchoi\\appdata\\local\\continuum\\anaconda3\\envs\\python36\\lib\\site-packages (from wordcloud) (1.17.3)\n",
      "Requirement already satisfied: matplotlib in c:\\users\\jabchoi\\appdata\\local\\continuum\\anaconda3\\envs\\python36\\lib\\site-packages (from wordcloud) (3.1.0)\n",
      "Requirement already satisfied: cycler>=0.10 in c:\\users\\jabchoi\\appdata\\local\\continuum\\anaconda3\\envs\\python36\\lib\\site-packages (from matplotlib->wordcloud) (0.10.0)\n",
      "Requirement already satisfied: python-dateutil>=2.1 in c:\\users\\jabchoi\\appdata\\local\\continuum\\anaconda3\\envs\\python36\\lib\\site-packages (from matplotlib->wordcloud) (2.8.0)\n",
      "Requirement already satisfied: pyparsing!=2.0.4,!=2.1.2,!=2.1.6,>=2.0.1 in c:\\users\\jabchoi\\appdata\\local\\continuum\\anaconda3\\envs\\python36\\lib\\site-packages (from matplotlib->wordcloud) (2.4.0)\n",
      "Requirement already satisfied: kiwisolver>=1.0.1 in c:\\users\\jabchoi\\appdata\\local\\continuum\\anaconda3\\envs\\python36\\lib\\site-packages (from matplotlib->wordcloud) (1.1.0)\n",
      "Requirement already satisfied: six in c:\\users\\jabchoi\\appdata\\roaming\\python\\python37\\site-packages (from cycler>=0.10->matplotlib->wordcloud) (1.12.0)\n",
      "Requirement already satisfied: setuptools in c:\\users\\jabchoi\\appdata\\local\\continuum\\anaconda3\\envs\\python36\\lib\\site-packages (from kiwisolver>=1.0.1->matplotlib->wordcloud) (41.0.1)\n"
     ]
    }
   ],
   "source": [
    "!pip install wordcloud\n",
    "\n",
    "from wordcloud import WordCloud, ImageColorGenerator"
   ]
  },
  {
   "cell_type": "code",
   "execution_count": 22,
   "metadata": {},
   "outputs": [],
   "source": [
    "# Define a function to create a wordcloud from dict of word freq\n",
    "def wordcloud_from_freq(word_freq_dict, title, figure_size=(10,6)):\n",
    "    wordcloud.generate_from_frequencies(word_freq_dict)     # Create a word_cloud from words and frequencies.\n",
    "    \n",
    "    plt.figure(figsize=figure_size)\n",
    "    plt.title(title)\n",
    "    plt.axis('off')\n",
    "    \n",
    "    plt.imshow(wordcloud)\n",
    "    plt.show()"
   ]
  },
  {
   "cell_type": "code",
   "execution_count": 41,
   "metadata": {},
   "outputs": [],
   "source": [
    "# Define a function to plot top 10 positive / negative words in a grouped bar plot from dicts\n",
    "def topn_wordfreq_bar(posword_freq_dict, negword_freq_dict, pos_num_doc, neg_num_doc, topn, title, palette, height=6, aspect=2):\n",
    "    \n",
    "    # Construct DataFrame from dict of array-like or dicts\n",
    "    df_pos = pd.DataFrame.from_dict(posword_freq_dict, orient='index').sort_values(by=0, ascending=False).head(topn)\n",
    "    df_pos.columns = ['frequency']\n",
    "    df_pos['frequency'] = df_pos['frequency'] / pos_num_doc\n",
    "    df_pos['label'] = 'Positive'\n",
    "    \n",
    "    df_neg = pd.DataFrame.from_dict(negword_freq_dict, orient='index').sort_values(by=0, ascending=False).head(topn)\n",
    "    df_neg.columns = ['frequency']\n",
    "    df_neg['frequency'] = df_neg['frequency'] / neg_num_doc\n",
    "    df_neg['label'] = 'Negative'\n",
    "    \n",
    "    # Append two dataframes\n",
    "    df_append = df_pos.append(df_neg)\n",
    "    df_append.reset_index(inplace=True)\n",
    "    \n",
    "    # Plot\n",
    "    sns.catplot(x='index', y='frequency', hue='label', data=df_append, \\\n",
    "               kind='bar', palette=palette, height=height, aspect = aspect, legend_out=False)\n",
    "    \n",
    "    plt.title(title)\n",
    "    plt.show()"
   ]
  },
  {
   "cell_type": "markdown",
   "metadata": {},
   "source": [
    "### The latest 1,000 positive reviews for Apple"
   ]
  },
  {
   "cell_type": "code",
   "execution_count": 24,
   "metadata": {},
   "outputs": [
    {
     "data": {
      "image/png": "[encoded data removed]",
      "text/plain": [
       "<Figure size 720x432 with 1 Axes>"
      ]
     },
     "metadata": {
      "needs_background": "light"
     },
     "output_type": "display_data"
    }
   ],
   "source": [
    "apple_pos = \" \".join(apple_sub[apple_sub['positivity'] == 1]['clean_text'][:1000])\n",
    "apple_posword_freq = word_freq_dict(apple_pos)\n",
    "\n",
    "# Create a wordcloud\n",
    "wordcloud = WordCloud(width=7000, height=5000, max_words=200, colormap='Blues', background_color='white')\n",
    "\n",
    "wordcloud_from_freq(apple_posword_freq, 'Most frequent words in the latest 1,000 positive reviews for Apple')"
   ]
  },
  {
   "cell_type": "markdown",
   "metadata": {},
   "source": [
    "On Apple review, 'new' is the most mentioned word. Let's look closely at what item is mentioned the most from renewed iphone buyers"
   ]
  },
  {
   "cell_type": "code",
   "execution_count": 25,
   "metadata": {},
   "outputs": [
    {
     "data": {
      "image/png": "[encoded data removed]",
      "text/plain": [
       "<Figure size 432x288 with 1 Axes>"
      ]
     },
     "metadata": {
      "needs_background": "light"
     },
     "output_type": "display_data"
    }
   ],
   "source": [
    "apple_sub[apple_sub['clean_text'].apply(lambda x: 'new' in x)]['items_title'].value_counts().sort_values(ascending=True).tail(10).plot(kind='barh')\n",
    "\n",
    "plt.title('The items mentioned the most from renewed iphone buyers in descending order', fontsize=15, fontweight='bold')\n",
    "plt.show()"
   ]
  },
  {
   "cell_type": "markdown",
   "metadata": {},
   "source": [
    "How many percentage of iphones that were sold on Amazon are renewed or reburshied?"
   ]
  },
  {
   "cell_type": "code",
   "execution_count": 26,
   "metadata": {},
   "outputs": [
    {
     "name": "stdout",
     "output_type": "stream",
     "text": [
      " 96.3% iphones that were sold on Amazon are renewed / reburshied.\n"
     ]
    }
   ],
   "source": [
    "apple_sub['renewed'] = apple_sub['items_title'].apply(lambda x: ('Renewed' in x) | ('Reburshied' in x))\n",
    "\n",
    "print('{0: .1%} iphones that were sold on Amazon are renewed / reburshied.'.format(apple_sub['renewed'].sum() / apple_sub['renewed'].count()))"
   ]
  },
  {
   "cell_type": "markdown",
   "metadata": {},
   "source": [
    "Then, it comes up with one more question. What word is described the most frequently in the latest negative reviews for Apple?"
   ]
  },
  {
   "cell_type": "code",
   "execution_count": 27,
   "metadata": {},
   "outputs": [
    {
     "data": {
      "image/png": "[encoded data removed]",
      "text/plain": [
       "<Figure size 720x432 with 1 Axes>"
      ]
     },
     "metadata": {
      "needs_background": "light"
     },
     "output_type": "display_data"
    }
   ],
   "source": [
    "apple_neg = \" \".join(apple_sub[apple_sub['positivity'] == -1]['clean_text'][:1000])\n",
    "apple_negword_freq = word_freq_dict(apple_neg)\n",
    "\n",
    "wordcloud = WordCloud(width=10000, height=8000, max_words=200, colormap='Blues', background_color='black')\n",
    "\n",
    "wordcloud_from_freq(apple_negword_freq, 'Most frequent words in the latest 1000 negative review for Apple')"
   ]
  },
  {
   "cell_type": "code",
   "execution_count": 42,
   "metadata": {},
   "outputs": [
    {
     "data": {
      "image/png": "[encoded data removed]",
      "text/plain": [
       "<Figure size 864x432 with 1 Axes>"
      ]
     },
     "metadata": {
      "needs_background": "light"
     },
     "output_type": "display_data"
    }
   ],
   "source": [
    "topn_wordfreq_bar(apple_posword_freq, apple_negword_freq, 1000, 1000, 10, \\\n",
    "                  'Top 10 frequent words in latest positive and negative reviews for Apple', [\"lightblue\", \"lightcoral\"], \\\n",
    "                  height=6, aspect=2)"
   ]
  },
  {
   "cell_type": "code",
   "execution_count": null,
   "metadata": {},
   "outputs": [],
   "source": []
  }
 ],
 "metadata": {
  "kernelspec": {
   "display_name": "Python 3",
   "language": "python",
   "name": "python3"
  },
  "language_info": {
   "codemirror_mode": {
    "name": "ipython",
    "version": 3
   },
   "file_extension": ".py",
   "mimetype": "text/x-python",
   "name": "python",
   "nbconvert_exporter": "python",
   "pygments_lexer": "ipython3",
   "version": "3.7.3"
  }
 },
 "nbformat": 4,
 "nbformat_minor": 2
}
